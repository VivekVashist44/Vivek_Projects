{
 "cells": [
  {
   "cell_type": "code",
   "execution_count": 28,
   "id": "837e1d10",
   "metadata": {},
   "outputs": [
    {
     "name": "stdout",
     "output_type": "stream",
     "text": [
      "  Company_name             Model Name Fuel Type Body Style  Car Length\n",
      "0          BMW  2 serie Active Tourer     Disel  Hatchback        4360\n",
      "1        Tesla               3 Series       Gas      Sedan        4324\n",
      "2      Porsche                     X3     Disel      Sedan        4433\n",
      "3        Porsh                     X4     Disel  Crossover        4612\n",
      "4       Maruti                     X6       Gas  Crossover        4831\n",
      "5        Volvo                    Z3M      Gas       Coupe        4025\n",
      "6      Ferrari                     Z4     Disel   Roadster        4239\n",
      "7        Audi                  Toyota    Petrol      Coupe        4033\n",
      "8       Suzuki                  Swift    Petrol  Hatchback        4320   Company_name Model Name  On road Price Loan Ammount  Monthly Emi  \\\n",
      "0          BMW          X4           44L          30L      12000.0   \n",
      "1         Audi     series2           42L          28L       7500.0   \n",
      "2      Porsche     Cayenne           56L          45L      20000.0   \n",
      "3        Volvo     strives           40L          29L      11000.0   \n",
      "4      Ferrari      xteria           80L          50L      13000.0   \n",
      "5       Maruti       swift           20L          NaN       6000.0   \n",
      "6        Porsh       Selia           49L          NaN      11000.0   \n",
      "7        Tesla     speria1           37L          28L          NaN   \n",
      "8          Kia      delite           22L          NaN      14000.0   \n",
      "\n",
      "  Interest Rate  Monthly Principle  Monthly Interest  \n",
      "0          9.4%              40000               NaN  \n",
      "1         0.088              14000               NaN  \n",
      "2        0.0832              24000            1280.0  \n",
      "3           NaN              45000            1100.0  \n",
      "4           NaN              56000            1640.0  \n",
      "5         0.074              35000            1140.0  \n",
      "6         0.096              33000            3600.0  \n",
      "7         0.081              42000               NaN  \n",
      "8           NaN              15000            2500.0  \n"
     ]
    }
   ],
   "source": [
    "import pandas as pd\n",
    "df_csv=pd.read_csv(\"C:\\\\Users\\\\user\\\\Downloads\\\\Sample1 (1) (1).csv\")\n",
    "df_excel=pd.read_excel(\"C:\\\\Users\\\\user\\\\Downloads\\\\Sample2 (2) (1).xlsx\")\n",
    "print(df_csv,df_excel)\n",
    "\n"
   ]
  },
  {
   "cell_type": "code",
   "execution_count": 55,
   "id": "69a82ab5",
   "metadata": {},
   "outputs": [
    {
     "name": "stdout",
     "output_type": "stream",
     "text": [
      "  Company_name             Model Name Fuel Type Body Style  Car Length  \\\n",
      "0          BMW  2 serie Active Tourer     Disel  Hatchback        4360   \n",
      "1        Tesla               3 Series       Gas      Sedan        4324   \n",
      "2      Porsche                     X3     Disel      Sedan        4433   \n",
      "3        Porsh                     X4     Disel  Crossover        4612   \n",
      "4       Maruti                     X6       Gas  Crossover        4831   \n",
      "5        Volvo                    Z3M      Gas       Coupe        4025   \n",
      "6      Ferrari                     Z4     Disel   Roadster        4239   \n",
      "\n",
      "  Model Name  On road Price Loan Ammount  Monthly Emi Interest Rate  \\\n",
      "0          X4           44L          30L      12000.0          9.4%   \n",
      "1     speria1           37L          28L          NaN         0.081   \n",
      "2     Cayenne           56L          45L      20000.0        0.0832   \n",
      "3       Selia           49L          NaN      11000.0         0.096   \n",
      "4       swift           20L          NaN       6000.0         0.074   \n",
      "5     strives           40L          29L      11000.0           NaN   \n",
      "6      xteria           80L          50L      13000.0           NaN   \n",
      "\n",
      "   Monthly Principle  Monthly Interest  \n",
      "0              40000               NaN  \n",
      "1              42000               NaN  \n",
      "2              24000            1280.0  \n",
      "3              33000            3600.0  \n",
      "4              35000            1140.0  \n",
      "5              45000            1100.0  \n",
      "6              56000            1640.0  \n"
     ]
    }
   ],
   "source": [
    "merge_df=pd.merge(df_csv,df_excel,on='Company_name')\n",
    "print(merge_df)"
   ]
  },
  {
   "cell_type": "code",
   "execution_count": 56,
   "id": "cb68b932",
   "metadata": {},
   "outputs": [
    {
     "name": "stdout",
     "output_type": "stream",
     "text": [
      "  Company_name             Model Name Fuel Type Body Style  Car Length  \\\n",
      "0          BMW  2 serie Active Tourer     Disel  Hatchback        4360   \n",
      "1        Tesla               3 Series       Gas      Sedan        4324   \n",
      "2      Porsche                     X3     Disel      Sedan        4433   \n",
      "3        Porsh                     X4     Disel  Crossover        4612   \n",
      "4       Maruti                     X6       Gas  Crossover        4831   \n",
      "5        Volvo                    Z3M      Gas       Coupe        4025   \n",
      "6      Ferrari                     Z4     Disel   Roadster        4239   \n",
      "\n",
      "  Model Name  On road Price Loan Ammount  Monthly Emi Interest Rate  \\\n",
      "0          X4           44L          30L      12000.0          9.4%   \n",
      "1     speria1           37L          28L          0.0         0.081   \n",
      "2     Cayenne           56L          45L      20000.0        0.0832   \n",
      "3       Selia           49L            0      11000.0         0.096   \n",
      "4       swift           20L            0       6000.0         0.074   \n",
      "5     strives           40L          29L      11000.0             0   \n",
      "6      xteria           80L          50L      13000.0             0   \n",
      "\n",
      "   Monthly Principle  Monthly Interest  \n",
      "0              40000               0.0  \n",
      "1              42000               0.0  \n",
      "2              24000            1280.0  \n",
      "3              33000            3600.0  \n",
      "4              35000            1140.0  \n",
      "5              45000            1100.0  \n",
      "6              56000            1640.0  \n"
     ]
    }
   ],
   "source": [
    "merge_df = merge_df.fillna(0)\n",
    "print(merge_df)"
   ]
  },
  {
   "cell_type": "code",
   "execution_count": 57,
   "id": "2e777216",
   "metadata": {},
   "outputs": [
    {
     "name": "stdout",
     "output_type": "stream",
     "text": [
      "After adding 18% Gst to On road Price:-\n",
      "  Company_name             Model Name Fuel Type Body Style  Car Length  \\\n",
      "0          BMW  2 serie Active Tourer     Disel  Hatchback        4360   \n",
      "1        Tesla               3 Series       Gas      Sedan        4324   \n",
      "2      Porsche                     X3     Disel      Sedan        4433   \n",
      "3        Porsh                     X4     Disel  Crossover        4612   \n",
      "4       Maruti                     X6       Gas  Crossover        4831   \n",
      "5        Volvo                    Z3M      Gas       Coupe        4025   \n",
      "6      Ferrari                     Z4     Disel   Roadster        4239   \n",
      "\n",
      "  Model Name  On road Price Loan Ammount  Monthly Emi Interest Rate  \\\n",
      "0          X4       51.92 L          30L      12000.0          9.4%   \n",
      "1     speria1       43.66 L          28L          0.0         0.081   \n",
      "2     Cayenne       66.08 L          45L      20000.0        0.0832   \n",
      "3       Selia       57.82 L            0      11000.0         0.096   \n",
      "4       swift       23.60 L            0       6000.0         0.074   \n",
      "5     strives       47.20 L          29L      11000.0             0   \n",
      "6      xteria       94.40 L          50L      13000.0             0   \n",
      "\n",
      "   Monthly Principle  Monthly Interest  \n",
      "0              40000               0.0  \n",
      "1              42000               0.0  \n",
      "2              24000            1280.0  \n",
      "3              33000            3600.0  \n",
      "4              35000            1140.0  \n",
      "5              45000            1100.0  \n",
      "6              56000            1640.0  \n"
     ]
    }
   ],
   "source": [
    "print(\"After adding 18% Gst to On road Price:-\")\n",
    "for index, row in merge_df.iterrows():\n",
    "    on_road_price = merge_df.at[index, 'On road Price']\n",
    "    on_road_price = float(on_road_price.replace(',', '').rstrip('L'))\n",
    "    on_road_price_taxed = on_road_price * 1.18\n",
    "    merge_df.at[index, 'On road Price'] = '{:,.2f} L'.format(on_road_price_taxed)\n",
    "\n",
    "print(merge_df)"
   ]
  },
  {
   "cell_type": "code",
   "execution_count": 4,
   "id": "8de97684",
   "metadata": {},
   "outputs": [
    {
     "name": "stdout",
     "output_type": "stream",
     "text": [
      "   PassengerId  Survived  Pclass  \\\n",
      "0            1         0       3   \n",
      "1            2         1       1   \n",
      "2            3         1       3   \n",
      "3            4         1       1   \n",
      "4            5         0       3   \n",
      "\n",
      "                                                Name     Sex   Age  SibSp  \\\n",
      "0                            Braund, Mr. Owen Harris    male  22.0      1   \n",
      "1  Cumings, Mrs. John Bradley (Florence Briggs Th...  female  38.0      1   \n",
      "2                             Heikkinen, Miss. Laina  female  26.0      0   \n",
      "3       Futrelle, Mrs. Jacques Heath (Lily May Peel)  female  35.0      1   \n",
      "4                           Allen, Mr. William Henry    male  35.0      0   \n",
      "\n",
      "   Parch            Ticket     Fare Cabin Embarked  \n",
      "0      0         A/5 21171   7.2500   NaN        S  \n",
      "1      0          PC 17599  71.2833   C85        C  \n",
      "2      0  STON/O2. 3101282   7.9250   NaN        S  \n",
      "3      0            113803  53.1000  C123        S  \n",
      "4      0            373450   8.0500   NaN        S  \n"
     ]
    }
   ],
   "source": [
    "import pandas as pd\n",
    "titanic_data=pd.read_csv(\"C:\\\\Users\\\\user\\\\Desktop\\\\datasets-master\\\\datasets-master\\\\titanic.csv\")\n",
    "print(titanic_data.head())"
   ]
  },
  {
   "cell_type": "code",
   "execution_count": 5,
   "id": "07011f93",
   "metadata": {},
   "outputs": [
    {
     "name": "stdout",
     "output_type": "stream",
     "text": [
      "0    22.0\n",
      "1    38.0\n",
      "2    26.0\n",
      "3    35.0\n",
      "4    35.0\n",
      "Name: Age, dtype: float64\n"
     ]
    }
   ],
   "source": [
    "age_data=titanic_data[\"Age\"]\n",
    "print(age_data.head())"
   ]
  },
  {
   "cell_type": "code",
   "execution_count": 7,
   "id": "dc3c79f0",
   "metadata": {},
   "outputs": [],
   "source": [
    "age_sex=titanic_data[[\"Age\",\"Sex\"]]"
   ]
  },
  {
   "cell_type": "code",
   "execution_count": 8,
   "id": "f2e3da43",
   "metadata": {},
   "outputs": [
    {
     "name": "stdout",
     "output_type": "stream",
     "text": [
      "    Age     Sex\n",
      "0  22.0    male\n",
      "1  38.0  female\n",
      "2  26.0  female\n",
      "3  35.0  female\n",
      "4  35.0    male\n"
     ]
    }
   ],
   "source": [
    "print(age_sex.head())"
   ]
  },
  {
   "cell_type": "code",
   "execution_count": 9,
   "id": "011cc057",
   "metadata": {},
   "outputs": [
    {
     "name": "stdout",
     "output_type": "stream",
     "text": [
      "(891, 2)\n"
     ]
    }
   ],
   "source": [
    "print(age_sex.shape)"
   ]
  },
  {
   "cell_type": "code",
   "execution_count": 10,
   "id": "2477eab3",
   "metadata": {},
   "outputs": [
    {
     "name": "stdout",
     "output_type": "stream",
     "text": [
      "     PassengerId  Survived  Pclass  \\\n",
      "1              2         1       1   \n",
      "3              4         1       1   \n",
      "4              5         0       3   \n",
      "6              7         0       1   \n",
      "8              9         1       3   \n",
      "..           ...       ...     ...   \n",
      "881          882         0       3   \n",
      "883          884         0       2   \n",
      "885          886         0       3   \n",
      "886          887         0       2   \n",
      "890          891         0       3   \n",
      "\n",
      "                                                  Name     Sex   Age  SibSp  \\\n",
      "1    Cumings, Mrs. John Bradley (Florence Briggs Th...  female  38.0      1   \n",
      "3         Futrelle, Mrs. Jacques Heath (Lily May Peel)  female  35.0      1   \n",
      "4                             Allen, Mr. William Henry    male  35.0      0   \n",
      "6                              McCarthy, Mr. Timothy J    male  54.0      0   \n",
      "8    Johnson, Mrs. Oscar W (Elisabeth Vilhelmina Berg)  female  27.0      0   \n",
      "..                                                 ...     ...   ...    ...   \n",
      "881                                 Markun, Mr. Johann    male  33.0      0   \n",
      "883                      Banfield, Mr. Frederick James    male  28.0      0   \n",
      "885               Rice, Mrs. William (Margaret Norton)  female  39.0      0   \n",
      "886                              Montvila, Rev. Juozas    male  27.0      0   \n",
      "890                                Dooley, Mr. Patrick    male  32.0      0   \n",
      "\n",
      "     Parch            Ticket     Fare Cabin Embarked  \n",
      "1        0          PC 17599  71.2833   C85        C  \n",
      "3        0            113803  53.1000  C123        S  \n",
      "4        0            373450   8.0500   NaN        S  \n",
      "6        0             17463  51.8625   E46        S  \n",
      "8        2            347742  11.1333   NaN        S  \n",
      "..     ...               ...      ...   ...      ...  \n",
      "881      0            349257   7.8958   NaN        S  \n",
      "883      0  C.A./SOTON 34068  10.5000   NaN        S  \n",
      "885      5            382652  29.1250   NaN        Q  \n",
      "886      0            211536  13.0000   NaN        S  \n",
      "890      0            370376   7.7500   NaN        Q  \n",
      "\n",
      "[395 rows x 12 columns]\n"
     ]
    }
   ],
   "source": [
    "age_26=titanic_data[titanic_data[\"Age\"]>26]\n",
    "print(age_26)"
   ]
  },
  {
   "cell_type": "markdown",
   "id": "e5803b28",
   "metadata": {},
   "source": [
    "# Is present in dataset or not "
   ]
  },
  {
   "cell_type": "code",
   "execution_count": 11,
   "id": "8ef7f8c6",
   "metadata": {},
   "outputs": [],
   "source": [
    "ade_26=titanic_data[\"Age\"]>26"
   ]
  },
  {
   "cell_type": "code",
   "execution_count": 13,
   "id": "8ba5bdda",
   "metadata": {},
   "outputs": [
    {
     "name": "stdout",
     "output_type": "stream",
     "text": [
      "0      False\n",
      "1       True\n",
      "2      False\n",
      "3       True\n",
      "4       True\n",
      "       ...  \n",
      "886     True\n",
      "887    False\n",
      "888    False\n",
      "889    False\n",
      "890     True\n",
      "Name: Age, Length: 891, dtype: bool\n"
     ]
    }
   ],
   "source": [
    "print(ade_26)"
   ]
  },
  {
   "cell_type": "code",
   "execution_count": 14,
   "id": "14a0b53c",
   "metadata": {},
   "outputs": [
    {
     "name": "stdout",
     "output_type": "stream",
     "text": [
      "     PassengerId  Survived  Pclass  \\\n",
      "0              1         0       3   \n",
      "1              2         1       1   \n",
      "2              3         1       3   \n",
      "3              4         1       1   \n",
      "4              5         0       3   \n",
      "..           ...       ...     ...   \n",
      "886          887         0       2   \n",
      "887          888         1       1   \n",
      "888          889         0       3   \n",
      "889          890         1       1   \n",
      "890          891         0       3   \n",
      "\n",
      "                                                  Name     Sex   Age  SibSp  \\\n",
      "0                              Braund, Mr. Owen Harris    male  22.0      1   \n",
      "1    Cumings, Mrs. John Bradley (Florence Briggs Th...  female  38.0      1   \n",
      "2                               Heikkinen, Miss. Laina  female  26.0      0   \n",
      "3         Futrelle, Mrs. Jacques Heath (Lily May Peel)  female  35.0      1   \n",
      "4                             Allen, Mr. William Henry    male  35.0      0   \n",
      "..                                                 ...     ...   ...    ...   \n",
      "886                              Montvila, Rev. Juozas    male  27.0      0   \n",
      "887                       Graham, Miss. Margaret Edith  female  19.0      0   \n",
      "888           Johnston, Miss. Catherine Helen \"Carrie\"  female   NaN      1   \n",
      "889                              Behr, Mr. Karl Howell    male  26.0      0   \n",
      "890                                Dooley, Mr. Patrick    male  32.0      0   \n",
      "\n",
      "     Parch            Ticket     Fare Cabin Embarked  \n",
      "0        0         A/5 21171   7.2500   NaN        S  \n",
      "1        0          PC 17599  71.2833   C85        C  \n",
      "2        0  STON/O2. 3101282   7.9250   NaN        S  \n",
      "3        0            113803  53.1000  C123        S  \n",
      "4        0            373450   8.0500   NaN        S  \n",
      "..     ...               ...      ...   ...      ...  \n",
      "886      0            211536  13.0000   NaN        S  \n",
      "887      0            112053  30.0000   B42        S  \n",
      "888      2        W./C. 6607  23.4500   NaN        S  \n",
      "889      0            111369  30.0000  C148        C  \n",
      "890      0            370376   7.7500   NaN        Q  \n",
      "\n",
      "[891 rows x 12 columns]\n"
     ]
    }
   ],
   "source": [
    "print(titanic_data)"
   ]
  },
  {
   "cell_type": "code",
   "execution_count": 17,
   "id": "e30c25e1",
   "metadata": {},
   "outputs": [
    {
     "name": "stdout",
     "output_type": "stream",
     "text": [
      "     PassengerId  Survived  Pclass  \\\n",
      "9             10         1       2   \n",
      "15            16         1       2   \n",
      "17            18         1       2   \n",
      "20            21         0       2   \n",
      "21            22         1       2   \n",
      "..           ...       ...     ...   \n",
      "866          867         1       2   \n",
      "874          875         1       2   \n",
      "880          881         1       2   \n",
      "883          884         0       2   \n",
      "886          887         0       2   \n",
      "\n",
      "                                             Name     Sex   Age  SibSp  Parch  \\\n",
      "9             Nasser, Mrs. Nicholas (Adele Achem)  female  14.0      1      0   \n",
      "15               Hewlett, Mrs. (Mary D Kingcome)   female  55.0      0      0   \n",
      "17                   Williams, Mr. Charles Eugene    male   NaN      0      0   \n",
      "20                           Fynney, Mr. Joseph J    male  35.0      0      0   \n",
      "21                          Beesley, Mr. Lawrence    male  34.0      0      0   \n",
      "..                                            ...     ...   ...    ...    ...   \n",
      "866                  Duran y More, Miss. Asuncion  female  27.0      1      0   \n",
      "874         Abelson, Mrs. Samuel (Hannah Wizosky)  female  28.0      1      0   \n",
      "880  Shelley, Mrs. William (Imanita Parrish Hall)  female  25.0      0      1   \n",
      "883                 Banfield, Mr. Frederick James    male  28.0      0      0   \n",
      "886                         Montvila, Rev. Juozas    male  27.0      0      0   \n",
      "\n",
      "               Ticket     Fare Cabin Embarked  \n",
      "9              237736  30.0708   NaN        C  \n",
      "15             248706  16.0000   NaN        S  \n",
      "17             244373  13.0000   NaN        S  \n",
      "20             239865  26.0000   NaN        S  \n",
      "21             248698  13.0000   D56        S  \n",
      "..                ...      ...   ...      ...  \n",
      "866     SC/PARIS 2149  13.8583   NaN        C  \n",
      "874         P/PP 3381  24.0000   NaN        C  \n",
      "880            230433  26.0000   NaN        S  \n",
      "883  C.A./SOTON 34068  10.5000   NaN        S  \n",
      "886            211536  13.0000   NaN        S  \n",
      "\n",
      "[184 rows x 12 columns]\n"
     ]
    }
   ],
   "source": [
    "class_23=titanic_data[titanic_data[\"Pclass\"].isin([2])]\n",
    "print(class_23)"
   ]
  },
  {
   "cell_type": "code",
   "execution_count": 18,
   "id": "152b906f",
   "metadata": {},
   "outputs": [
    {
     "name": "stdout",
     "output_type": "stream",
     "text": [
      "     PassengerId  Survived  Pclass  \\\n",
      "0              1         0       3   \n",
      "1              2         1       1   \n",
      "2              3         1       3   \n",
      "3              4         1       1   \n",
      "4              5         0       3   \n",
      "..           ...       ...     ...   \n",
      "885          886         0       3   \n",
      "886          887         0       2   \n",
      "887          888         1       1   \n",
      "889          890         1       1   \n",
      "890          891         0       3   \n",
      "\n",
      "                                                  Name     Sex   Age  SibSp  \\\n",
      "0                              Braund, Mr. Owen Harris    male  22.0      1   \n",
      "1    Cumings, Mrs. John Bradley (Florence Briggs Th...  female  38.0      1   \n",
      "2                               Heikkinen, Miss. Laina  female  26.0      0   \n",
      "3         Futrelle, Mrs. Jacques Heath (Lily May Peel)  female  35.0      1   \n",
      "4                             Allen, Mr. William Henry    male  35.0      0   \n",
      "..                                                 ...     ...   ...    ...   \n",
      "885               Rice, Mrs. William (Margaret Norton)  female  39.0      0   \n",
      "886                              Montvila, Rev. Juozas    male  27.0      0   \n",
      "887                       Graham, Miss. Margaret Edith  female  19.0      0   \n",
      "889                              Behr, Mr. Karl Howell    male  26.0      0   \n",
      "890                                Dooley, Mr. Patrick    male  32.0      0   \n",
      "\n",
      "     Parch            Ticket     Fare Cabin Embarked  \n",
      "0        0         A/5 21171   7.2500   NaN        S  \n",
      "1        0          PC 17599  71.2833   C85        C  \n",
      "2        0  STON/O2. 3101282   7.9250   NaN        S  \n",
      "3        0            113803  53.1000  C123        S  \n",
      "4        0            373450   8.0500   NaN        S  \n",
      "..     ...               ...      ...   ...      ...  \n",
      "885      5            382652  29.1250   NaN        Q  \n",
      "886      0            211536  13.0000   NaN        S  \n",
      "887      0            112053  30.0000   B42        S  \n",
      "889      0            111369  30.0000  C148        C  \n",
      "890      0            370376   7.7500   NaN        Q  \n",
      "\n",
      "[714 rows x 12 columns]\n"
     ]
    }
   ],
   "source": [
    "age_no_na=titanic_data[titanic_data[\"Age\"].notna()]\n",
    "print(age_no_na)"
   ]
  },
  {
   "cell_type": "code",
   "execution_count": 19,
   "id": "3a7a0e12",
   "metadata": {},
   "outputs": [],
   "source": [
    "age_is_na=titanic_data[titanic_data[\"Age\"].isna()]"
   ]
  },
  {
   "cell_type": "code",
   "execution_count": 20,
   "id": "2bf19db9",
   "metadata": {},
   "outputs": [
    {
     "name": "stdout",
     "output_type": "stream",
     "text": [
      "     PassengerId  Survived  Pclass                                      Name  \\\n",
      "5              6         0       3                          Moran, Mr. James   \n",
      "17            18         1       2              Williams, Mr. Charles Eugene   \n",
      "19            20         1       3                   Masselmani, Mrs. Fatima   \n",
      "26            27         0       3                   Emir, Mr. Farred Chehab   \n",
      "28            29         1       3             O'Dwyer, Miss. Ellen \"Nellie\"   \n",
      "..           ...       ...     ...                                       ...   \n",
      "859          860         0       3                          Razi, Mr. Raihed   \n",
      "863          864         0       3         Sage, Miss. Dorothy Edith \"Dolly\"   \n",
      "868          869         0       3               van Melkebeke, Mr. Philemon   \n",
      "878          879         0       3                        Laleff, Mr. Kristo   \n",
      "888          889         0       3  Johnston, Miss. Catherine Helen \"Carrie\"   \n",
      "\n",
      "        Sex  Age  SibSp  Parch      Ticket     Fare Cabin Embarked  \n",
      "5      male  NaN      0      0      330877   8.4583   NaN        Q  \n",
      "17     male  NaN      0      0      244373  13.0000   NaN        S  \n",
      "19   female  NaN      0      0        2649   7.2250   NaN        C  \n",
      "26     male  NaN      0      0        2631   7.2250   NaN        C  \n",
      "28   female  NaN      0      0      330959   7.8792   NaN        Q  \n",
      "..      ...  ...    ...    ...         ...      ...   ...      ...  \n",
      "859    male  NaN      0      0        2629   7.2292   NaN        C  \n",
      "863  female  NaN      8      2    CA. 2343  69.5500   NaN        S  \n",
      "868    male  NaN      0      0      345777   9.5000   NaN        S  \n",
      "878    male  NaN      0      0      349217   7.8958   NaN        S  \n",
      "888  female  NaN      1      2  W./C. 6607  23.4500   NaN        S  \n",
      "\n",
      "[177 rows x 12 columns]\n"
     ]
    }
   ],
   "source": [
    "print(age_is_na)"
   ]
  },
  {
   "cell_type": "code",
   "execution_count": 21,
   "id": "eb218568",
   "metadata": {},
   "outputs": [
    {
     "name": "stdout",
     "output_type": "stream",
     "text": [
      "29.69911764705882\n"
     ]
    }
   ],
   "source": [
    "age_avg=titanic_data[\"Age\"].mean()\n",
    "print(age_avg)"
   ]
  },
  {
   "cell_type": "code",
   "execution_count": 22,
   "id": "cbcd74d8",
   "metadata": {},
   "outputs": [
    {
     "name": "stdout",
     "output_type": "stream",
     "text": [
      "Age     28.0000\n",
      "Fare    14.4542\n",
      "dtype: float64\n"
     ]
    }
   ],
   "source": [
    "age_fare=titanic_data[[\"Age\",\"Fare\"]].median()\n",
    "print(age_fare)"
   ]
  },
  {
   "cell_type": "code",
   "execution_count": 24,
   "id": "18a550af",
   "metadata": {},
   "outputs": [
    {
     "name": "stdout",
     "output_type": "stream",
     "text": [
      "              Age        Fare\n",
      "count  714.000000  891.000000\n",
      "mean    29.699118   32.204208\n",
      "std     14.526497   49.693429\n",
      "min      0.420000    0.000000\n",
      "25%     20.125000    7.910400\n",
      "50%     28.000000   14.454200\n",
      "75%     38.000000   31.000000\n",
      "max     80.000000  512.329200\n"
     ]
    }
   ],
   "source": [
    "age_fare=titanic_data[[\"Age\",\"Fare\"]].describe()\n",
    "print(age_fare)"
   ]
  },
  {
   "cell_type": "code",
   "execution_count": null,
   "id": "20532b3b",
   "metadata": {},
   "outputs": [],
   "source": []
  }
 ],
 "metadata": {
  "kernelspec": {
   "display_name": "Python 3 (ipykernel)",
   "language": "python",
   "name": "python3"
  },
  "language_info": {
   "codemirror_mode": {
    "name": "ipython",
    "version": 3
   },
   "file_extension": ".py",
   "mimetype": "text/x-python",
   "name": "python",
   "nbconvert_exporter": "python",
   "pygments_lexer": "ipython3",
   "version": "3.9.13"
  }
 },
 "nbformat": 4,
 "nbformat_minor": 5
}
